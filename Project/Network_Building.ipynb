{
 "cells": [
  {
   "cell_type": "markdown",
   "metadata": {},
   "source": [
    "# Network Building\n"
   ]
  },
  {
   "cell_type": "code",
   "execution_count": 57,
   "metadata": {},
   "outputs": [],
   "source": [
    "import pandas as pd\n",
    "import numpy as np"
   ]
  },
  {
   "cell_type": "code",
   "execution_count": 108,
   "metadata": {},
   "outputs": [],
   "source": [
    "distancesdf = pd.read_csv(\"..\\Data\\distances\\All countries distances.csv\")\n",
    "\n",
    "distancesdf.drop(0 , inplace=True)\n",
    "distancesdf.drop('Unnamed: 1', axis=1, inplace=True)\n",
    "distancesdf.index = distancesdf['Unnamed: 0']\n",
    "distancesdf.drop('Unnamed: 0', axis=1, inplace=True)\n",
    "#distancesdf.set_index('Country', inplace=True)\n"
   ]
  },
  {
   "cell_type": "code",
   "execution_count": 46,
   "metadata": {},
   "outputs": [],
   "source": [
    "df = pd.read_csv(\"..\\Data\\Raw\\owid-covid-data-clean.csv\")\n"
   ]
  },
  {
   "cell_type": "markdown",
   "metadata": {},
   "source": [
    "## 1"
   ]
  },
  {
   "cell_type": "code",
   "execution_count": null,
   "metadata": {},
   "outputs": [],
   "source": [
    "countries2remove = ['ATF', 'HKG', 'IOT', 'MAC', 'NFK', 'CXR', 'ATA', 'SGS', 'SJM', 'ESH', 'CCK', 'TWN']"
   ]
  },
  {
   "cell_type": "code",
   "execution_count": 130,
   "metadata": {},
   "outputs": [
    {
     "data": {
      "text/plain": [
       "Index(['Aruba', 'Afghanistan', 'Angola', 'Anguilla', 'Albania', 'Andorra',\n",
       "       'United Arab Emirates', 'Argentina', 'Armenia', 'American Samoa',\n",
       "       ...\n",
       "       'Saint Vincent and the Grenadines',\n",
       "       'Venezuela (Bolivarian Republic of)', 'Viet Nam', 'Vanuatu',\n",
       "       'Wallis and Futuna', 'Samoa', 'Yemen', 'South Africa', 'Zambia',\n",
       "       'Zimbabwe'],\n",
       "      dtype='object', length=235)"
      ]
     },
     "execution_count": 130,
     "metadata": {},
     "output_type": "execute_result"
    }
   ],
   "source": [
    "distancesdf.columns"
   ]
  },
  {
   "cell_type": "code",
   "execution_count": 132,
   "metadata": {},
   "outputs": [
    {
     "name": "stdout",
     "output_type": "stream",
     "text": [
      "Members in df1 but not in df2: ['Bolivia', 'Bonaire Sint Eustatius and Saba', 'British Virgin Islands', 'Brunei', 'Cape Verde', \"Cote d'Ivoire\", 'Curacao', 'Democratic Republic of Congo', 'Eswatini', 'Faeroe Islands', 'Falkland Islands', 'Iran', 'Kosovo', 'Laos', 'Micronesia (country)', 'North Korea', 'Palestine', 'Reunion', 'Russia', 'Saint Barthelemy', 'Saint Helena', 'Saint Martin (French part)', 'Sint Maarten (Dutch part)', 'South Korea', 'Syria', 'Tanzania', 'Timor', 'United Kingdom', 'United States', 'United States Virgin Islands', 'Vatican', 'Venezuela', 'Vietnam']\n",
      "Members in df2 but not in df1: ['Antarctica', 'Bolivia (Plurinational State of)', 'Bonaire, Sint Eustatius and Saba', 'British Indian Ocean Territory', 'Cabo Verde', 'Christmas Island', 'Cocos (Keeling) Islands', 'Congo (the Democratic Republic of the)', 'Curaçao', \"Côte d'Ivoire\", 'Faroe Islands', 'French Southern Territories', 'Hong Kong', 'Iran (Islamic Republic of)', 'Macao', 'Micronesia (Federated States of)', 'Norfolk Island', 'Palestine, State of', 'Russian Federation', 'Réunion', 'Saint Barthélemy', 'Saint Helena, Ascension and Tristan da Cunha', 'South Georgia and the South Sandwich Islands', 'Svalbard and Jan Mayen', 'Swaziland', 'Syrian Arab Republic', 'Taiwan, Province of China', 'Tanzania, United Republic of', 'Timor-Leste', 'United Kingdom of Great Britain and Northern Ireland', 'United States of America', 'Venezuela (Bolivarian Republic of)', 'Viet Nam', 'Western Sahara']\n"
     ]
    }
   ],
   "source": [
    "# Convert columns to sets for easier comparison\n",
    "set_df1 = set(df['location'].unique())\n",
    "set_df2 = set(distancesdf.columns)\n",
    "\n",
    "# Find members in df1 but not in df2\n",
    "not_in_df2 = set_df1 - set_df2\n",
    "\n",
    "# Find members in df2 but not in df1\n",
    "not_in_df1 = set_df2 - set_df1\n",
    "\n",
    "print(\"Members in df1 but not in df2:\", sorted(not_in_df2))\n",
    "print(\"Members in df2 but not in df1:\", sorted(not_in_df1))"
   ]
  },
  {
   "cell_type": "markdown",
   "metadata": {},
   "source": [
    "## 2"
   ]
  },
  {
   "cell_type": "code",
   "execution_count": 120,
   "metadata": {},
   "outputs": [
    {
     "name": "stdout",
     "output_type": "stream",
     "text": [
      "                  iso_code  gdp_per_capita\n",
      "location                                  \n",
      "Afghanistan            AFG        1803.987\n",
      "Albania                ALB       11803.431\n",
      "Algeria                DZA       13913.839\n",
      "American Samoa         ASM          -1.000\n",
      "Andorra                AND          -1.000\n",
      "...                    ...             ...\n",
      "Vietnam                VNM        6171.884\n",
      "Wallis and Futuna      WLF          -1.000\n",
      "Yemen                  YEM        1479.147\n",
      "Zambia                 ZMB        3689.251\n",
      "Zimbabwe               ZWE        1899.775\n",
      "\n",
      "[234 rows x 2 columns]\n"
     ]
    }
   ],
   "source": [
    "# Columns to exclude\n",
    "columns_to_exclude = ['iso_code', 'location' , 'gdp_per_capita']\n",
    "\n",
    "# Select only the columns to exclude and save them into a new DataFrame\n",
    "excluded_df = df[columns_to_exclude]\n",
    "\n",
    "df_no_duplicates = excluded_df.drop_duplicates()\n",
    "gdp_df = df_no_duplicates.reset_index(drop=True)\n",
    "gdp_df.index = gdp_df['location']\n",
    "gdp_df.drop('location'  ,axis=1 , inplace=True )\n",
    "# Display the new DataFrame\n",
    "print(gdp_df)"
   ]
  },
  {
   "cell_type": "code",
   "execution_count": 124,
   "metadata": {},
   "outputs": [
    {
     "data": {
      "text/plain": [
       "4344.887482"
      ]
     },
     "execution_count": 124,
     "metadata": {},
     "output_type": "execute_result"
    }
   ],
   "source": [
    "country1 = 'Albania'\n",
    "country2 = 'Afghanistan'\n",
    "float(distancesdf.loc[country1, country2])"
   ]
  },
  {
   "cell_type": "code",
   "execution_count": 125,
   "metadata": {},
   "outputs": [
    {
     "name": "stdout",
     "output_type": "stream",
     "text": [
      "Interaction between Albania and Afghanistan : 1.127936370672912\n"
     ]
    }
   ],
   "source": [
    "def calculate_interaction(gdp_df, distance_matrix, country1, country2):\n",
    "    # Extract GDPs for the two countries\n",
    "    gdp1 = gdp_df.loc[country1, 'gdp_per_capita']\n",
    "    gdp2 = gdp_df.loc[country2, 'gdp_per_capita']\n",
    "    \n",
    "    # Extract the distance between the two countries\n",
    "    distance = float(distance_matrix.loc[country1, country2])\n",
    "    \n",
    "    # Calculate the interaction\n",
    "    interaction = (gdp1 * gdp2) / (distance ** 2)\n",
    "    \n",
    "    return interaction\n",
    "\n",
    "# Sample distance matrix DataFrame (symmetric matrix)\n",
    "distance_matrix = distancesdf\n",
    "\n",
    "# Example usage\n",
    "country1 = 'Albania'\n",
    "country2 = 'Afghanistan'\n",
    "interaction = calculate_interaction(gdp_df, distance_matrix, country1, country2)\n",
    "print(\"Interaction between\", country1, \"and\", country2, \":\", interaction)\n"
   ]
  },
  {
   "cell_type": "code",
   "execution_count": 126,
   "metadata": {},
   "outputs": [
    {
     "name": "stderr",
     "output_type": "stream",
     "text": [
      "C:\\Users\\hafez\\AppData\\Local\\Temp\\ipykernel_1128\\3339706641.py:10: RuntimeWarning: divide by zero encountered in scalar divide\n",
      "  interaction = (gdp1 * gdp2) / (distance ** 2)\n"
     ]
    },
    {
     "ename": "KeyError",
     "evalue": "'Bolivia'",
     "output_type": "error",
     "traceback": [
      "\u001b[1;31m---------------------------------------------------------------------------\u001b[0m",
      "\u001b[1;31mKeyError\u001b[0m                                  Traceback (most recent call last)",
      "File \u001b[1;32m~\\AppData\\Local\\Packages\\PythonSoftwareFoundation.Python.3.10_qbz5n2kfra8p0\\LocalCache\\local-packages\\Python310\\site-packages\\pandas\\core\\indexes\\base.py:3805\u001b[0m, in \u001b[0;36mIndex.get_loc\u001b[1;34m(self, key)\u001b[0m\n\u001b[0;32m   3804\u001b[0m \u001b[38;5;28;01mtry\u001b[39;00m:\n\u001b[1;32m-> 3805\u001b[0m     \u001b[38;5;28;01mreturn\u001b[39;00m \u001b[38;5;28;43mself\u001b[39;49m\u001b[38;5;241;43m.\u001b[39;49m\u001b[43m_engine\u001b[49m\u001b[38;5;241;43m.\u001b[39;49m\u001b[43mget_loc\u001b[49m\u001b[43m(\u001b[49m\u001b[43mcasted_key\u001b[49m\u001b[43m)\u001b[49m\n\u001b[0;32m   3806\u001b[0m \u001b[38;5;28;01mexcept\u001b[39;00m \u001b[38;5;167;01mKeyError\u001b[39;00m \u001b[38;5;28;01mas\u001b[39;00m err:\n",
      "File \u001b[1;32mindex.pyx:167\u001b[0m, in \u001b[0;36mpandas._libs.index.IndexEngine.get_loc\u001b[1;34m()\u001b[0m\n",
      "File \u001b[1;32mindex.pyx:196\u001b[0m, in \u001b[0;36mpandas._libs.index.IndexEngine.get_loc\u001b[1;34m()\u001b[0m\n",
      "File \u001b[1;32mpandas\\\\_libs\\\\hashtable_class_helper.pxi:7081\u001b[0m, in \u001b[0;36mpandas._libs.hashtable.PyObjectHashTable.get_item\u001b[1;34m()\u001b[0m\n",
      "File \u001b[1;32mpandas\\\\_libs\\\\hashtable_class_helper.pxi:7089\u001b[0m, in \u001b[0;36mpandas._libs.hashtable.PyObjectHashTable.get_item\u001b[1;34m()\u001b[0m\n",
      "\u001b[1;31mKeyError\u001b[0m: 'Bolivia'",
      "\nThe above exception was the direct cause of the following exception:\n",
      "\u001b[1;31mKeyError\u001b[0m                                  Traceback (most recent call last)",
      "Cell \u001b[1;32mIn[126], line 6\u001b[0m\n\u001b[0;32m      4\u001b[0m \u001b[38;5;28;01mfor\u001b[39;00m country1 \u001b[38;5;129;01min\u001b[39;00m gdp_df\u001b[38;5;241m.\u001b[39mindex:\n\u001b[0;32m      5\u001b[0m     \u001b[38;5;28;01mfor\u001b[39;00m country2 \u001b[38;5;129;01min\u001b[39;00m gdp_df\u001b[38;5;241m.\u001b[39mindex:\n\u001b[1;32m----> 6\u001b[0m         interaction \u001b[38;5;241m=\u001b[39m \u001b[43mcalculate_interaction\u001b[49m\u001b[43m(\u001b[49m\u001b[43mgdp_df\u001b[49m\u001b[43m,\u001b[49m\u001b[43m \u001b[49m\u001b[43mdistance_matrix\u001b[49m\u001b[43m,\u001b[49m\u001b[43m \u001b[49m\u001b[43mcountry1\u001b[49m\u001b[43m,\u001b[49m\u001b[43m \u001b[49m\u001b[43mcountry2\u001b[49m\u001b[43m)\u001b[49m\n\u001b[0;32m      8\u001b[0m         \u001b[38;5;66;03m# Store the interaction in the symmetric matrix\u001b[39;00m\n\u001b[0;32m      9\u001b[0m         interaction_matrix\u001b[38;5;241m.\u001b[39mloc[country1, country2] \u001b[38;5;241m=\u001b[39m interaction\n",
      "Cell \u001b[1;32mIn[125], line 7\u001b[0m, in \u001b[0;36mcalculate_interaction\u001b[1;34m(gdp_df, distance_matrix, country1, country2)\u001b[0m\n\u001b[0;32m      4\u001b[0m gdp2 \u001b[38;5;241m=\u001b[39m gdp_df\u001b[38;5;241m.\u001b[39mloc[country2, \u001b[38;5;124m'\u001b[39m\u001b[38;5;124mgdp_per_capita\u001b[39m\u001b[38;5;124m'\u001b[39m]\n\u001b[0;32m      6\u001b[0m \u001b[38;5;66;03m# Extract the distance between the two countries\u001b[39;00m\n\u001b[1;32m----> 7\u001b[0m distance \u001b[38;5;241m=\u001b[39m \u001b[38;5;28mfloat\u001b[39m(\u001b[43mdistance_matrix\u001b[49m\u001b[38;5;241;43m.\u001b[39;49m\u001b[43mloc\u001b[49m\u001b[43m[\u001b[49m\u001b[43mcountry1\u001b[49m\u001b[43m,\u001b[49m\u001b[43m \u001b[49m\u001b[43mcountry2\u001b[49m\u001b[43m]\u001b[49m)\n\u001b[0;32m      9\u001b[0m \u001b[38;5;66;03m# Calculate the interaction\u001b[39;00m\n\u001b[0;32m     10\u001b[0m interaction \u001b[38;5;241m=\u001b[39m (gdp1 \u001b[38;5;241m*\u001b[39m gdp2) \u001b[38;5;241m/\u001b[39m (distance \u001b[38;5;241m*\u001b[39m\u001b[38;5;241m*\u001b[39m \u001b[38;5;241m2\u001b[39m)\n",
      "File \u001b[1;32m~\\AppData\\Local\\Packages\\PythonSoftwareFoundation.Python.3.10_qbz5n2kfra8p0\\LocalCache\\local-packages\\Python310\\site-packages\\pandas\\core\\indexing.py:1183\u001b[0m, in \u001b[0;36m_LocationIndexer.__getitem__\u001b[1;34m(self, key)\u001b[0m\n\u001b[0;32m   1181\u001b[0m     key \u001b[38;5;241m=\u001b[39m \u001b[38;5;28mtuple\u001b[39m(com\u001b[38;5;241m.\u001b[39mapply_if_callable(x, \u001b[38;5;28mself\u001b[39m\u001b[38;5;241m.\u001b[39mobj) \u001b[38;5;28;01mfor\u001b[39;00m x \u001b[38;5;129;01min\u001b[39;00m key)\n\u001b[0;32m   1182\u001b[0m     \u001b[38;5;28;01mif\u001b[39;00m \u001b[38;5;28mself\u001b[39m\u001b[38;5;241m.\u001b[39m_is_scalar_access(key):\n\u001b[1;32m-> 1183\u001b[0m         \u001b[38;5;28;01mreturn\u001b[39;00m \u001b[38;5;28;43mself\u001b[39;49m\u001b[38;5;241;43m.\u001b[39;49m\u001b[43mobj\u001b[49m\u001b[38;5;241;43m.\u001b[39;49m\u001b[43m_get_value\u001b[49m\u001b[43m(\u001b[49m\u001b[38;5;241;43m*\u001b[39;49m\u001b[43mkey\u001b[49m\u001b[43m,\u001b[49m\u001b[43m \u001b[49m\u001b[43mtakeable\u001b[49m\u001b[38;5;241;43m=\u001b[39;49m\u001b[38;5;28;43mself\u001b[39;49m\u001b[38;5;241;43m.\u001b[39;49m\u001b[43m_takeable\u001b[49m\u001b[43m)\u001b[49m\n\u001b[0;32m   1184\u001b[0m     \u001b[38;5;28;01mreturn\u001b[39;00m \u001b[38;5;28mself\u001b[39m\u001b[38;5;241m.\u001b[39m_getitem_tuple(key)\n\u001b[0;32m   1185\u001b[0m \u001b[38;5;28;01melse\u001b[39;00m:\n\u001b[0;32m   1186\u001b[0m     \u001b[38;5;66;03m# we by definition only have the 0th axis\u001b[39;00m\n",
      "File \u001b[1;32m~\\AppData\\Local\\Packages\\PythonSoftwareFoundation.Python.3.10_qbz5n2kfra8p0\\LocalCache\\local-packages\\Python310\\site-packages\\pandas\\core\\frame.py:4202\u001b[0m, in \u001b[0;36mDataFrame._get_value\u001b[1;34m(self, index, col, takeable)\u001b[0m\n\u001b[0;32m   4199\u001b[0m     series \u001b[38;5;241m=\u001b[39m \u001b[38;5;28mself\u001b[39m\u001b[38;5;241m.\u001b[39m_ixs(col, axis\u001b[38;5;241m=\u001b[39m\u001b[38;5;241m1\u001b[39m)\n\u001b[0;32m   4200\u001b[0m     \u001b[38;5;28;01mreturn\u001b[39;00m series\u001b[38;5;241m.\u001b[39m_values[index]\n\u001b[1;32m-> 4202\u001b[0m series \u001b[38;5;241m=\u001b[39m \u001b[38;5;28;43mself\u001b[39;49m\u001b[38;5;241;43m.\u001b[39;49m\u001b[43m_get_item_cache\u001b[49m\u001b[43m(\u001b[49m\u001b[43mcol\u001b[49m\u001b[43m)\u001b[49m\n\u001b[0;32m   4203\u001b[0m engine \u001b[38;5;241m=\u001b[39m \u001b[38;5;28mself\u001b[39m\u001b[38;5;241m.\u001b[39mindex\u001b[38;5;241m.\u001b[39m_engine\n\u001b[0;32m   4205\u001b[0m \u001b[38;5;28;01mif\u001b[39;00m \u001b[38;5;129;01mnot\u001b[39;00m \u001b[38;5;28misinstance\u001b[39m(\u001b[38;5;28mself\u001b[39m\u001b[38;5;241m.\u001b[39mindex, MultiIndex):\n\u001b[0;32m   4206\u001b[0m     \u001b[38;5;66;03m# CategoricalIndex: Trying to use the engine fastpath may give incorrect\u001b[39;00m\n\u001b[0;32m   4207\u001b[0m     \u001b[38;5;66;03m#  results if our categories are integers that dont match our codes\u001b[39;00m\n\u001b[0;32m   4208\u001b[0m     \u001b[38;5;66;03m# IntervalIndex: IntervalTree has no get_loc\u001b[39;00m\n",
      "File \u001b[1;32m~\\AppData\\Local\\Packages\\PythonSoftwareFoundation.Python.3.10_qbz5n2kfra8p0\\LocalCache\\local-packages\\Python310\\site-packages\\pandas\\core\\frame.py:4626\u001b[0m, in \u001b[0;36mDataFrame._get_item_cache\u001b[1;34m(self, item)\u001b[0m\n\u001b[0;32m   4621\u001b[0m res \u001b[38;5;241m=\u001b[39m cache\u001b[38;5;241m.\u001b[39mget(item)\n\u001b[0;32m   4622\u001b[0m \u001b[38;5;28;01mif\u001b[39;00m res \u001b[38;5;129;01mis\u001b[39;00m \u001b[38;5;28;01mNone\u001b[39;00m:\n\u001b[0;32m   4623\u001b[0m     \u001b[38;5;66;03m# All places that call _get_item_cache have unique columns,\u001b[39;00m\n\u001b[0;32m   4624\u001b[0m     \u001b[38;5;66;03m#  pending resolution of GH#33047\u001b[39;00m\n\u001b[1;32m-> 4626\u001b[0m     loc \u001b[38;5;241m=\u001b[39m \u001b[38;5;28;43mself\u001b[39;49m\u001b[38;5;241;43m.\u001b[39;49m\u001b[43mcolumns\u001b[49m\u001b[38;5;241;43m.\u001b[39;49m\u001b[43mget_loc\u001b[49m\u001b[43m(\u001b[49m\u001b[43mitem\u001b[49m\u001b[43m)\u001b[49m\n\u001b[0;32m   4627\u001b[0m     res \u001b[38;5;241m=\u001b[39m \u001b[38;5;28mself\u001b[39m\u001b[38;5;241m.\u001b[39m_ixs(loc, axis\u001b[38;5;241m=\u001b[39m\u001b[38;5;241m1\u001b[39m)\n\u001b[0;32m   4629\u001b[0m     cache[item] \u001b[38;5;241m=\u001b[39m res\n",
      "File \u001b[1;32m~\\AppData\\Local\\Packages\\PythonSoftwareFoundation.Python.3.10_qbz5n2kfra8p0\\LocalCache\\local-packages\\Python310\\site-packages\\pandas\\core\\indexes\\base.py:3812\u001b[0m, in \u001b[0;36mIndex.get_loc\u001b[1;34m(self, key)\u001b[0m\n\u001b[0;32m   3807\u001b[0m     \u001b[38;5;28;01mif\u001b[39;00m \u001b[38;5;28misinstance\u001b[39m(casted_key, \u001b[38;5;28mslice\u001b[39m) \u001b[38;5;129;01mor\u001b[39;00m (\n\u001b[0;32m   3808\u001b[0m         \u001b[38;5;28misinstance\u001b[39m(casted_key, abc\u001b[38;5;241m.\u001b[39mIterable)\n\u001b[0;32m   3809\u001b[0m         \u001b[38;5;129;01mand\u001b[39;00m \u001b[38;5;28many\u001b[39m(\u001b[38;5;28misinstance\u001b[39m(x, \u001b[38;5;28mslice\u001b[39m) \u001b[38;5;28;01mfor\u001b[39;00m x \u001b[38;5;129;01min\u001b[39;00m casted_key)\n\u001b[0;32m   3810\u001b[0m     ):\n\u001b[0;32m   3811\u001b[0m         \u001b[38;5;28;01mraise\u001b[39;00m InvalidIndexError(key)\n\u001b[1;32m-> 3812\u001b[0m     \u001b[38;5;28;01mraise\u001b[39;00m \u001b[38;5;167;01mKeyError\u001b[39;00m(key) \u001b[38;5;28;01mfrom\u001b[39;00m \u001b[38;5;21;01merr\u001b[39;00m\n\u001b[0;32m   3813\u001b[0m \u001b[38;5;28;01mexcept\u001b[39;00m \u001b[38;5;167;01mTypeError\u001b[39;00m:\n\u001b[0;32m   3814\u001b[0m     \u001b[38;5;66;03m# If we have a listlike key, _check_indexing_error will raise\u001b[39;00m\n\u001b[0;32m   3815\u001b[0m     \u001b[38;5;66;03m#  InvalidIndexError. Otherwise we fall through and re-raise\u001b[39;00m\n\u001b[0;32m   3816\u001b[0m     \u001b[38;5;66;03m#  the TypeError.\u001b[39;00m\n\u001b[0;32m   3817\u001b[0m     \u001b[38;5;28mself\u001b[39m\u001b[38;5;241m.\u001b[39m_check_indexing_error(key)\n",
      "\u001b[1;31mKeyError\u001b[0m: 'Bolivia'"
     ]
    }
   ],
   "source": [
    "interaction_matrix = pd.DataFrame(index=gdp_df.index, columns=gdp_df.index)\n",
    "\n",
    "# Iterate over pairs of countries\n",
    "for country1 in gdp_df.index:\n",
    "    for country2 in gdp_df.index:\n",
    "        interaction = calculate_interaction(gdp_df, distance_matrix, country1, country2)\n",
    "        \n",
    "        # Store the interaction in the symmetric matrix\n",
    "        interaction_matrix.loc[country1, country2] = interaction\n",
    "        interaction_matrix.loc[country2, country1] = interaction  # Symmetric\n",
    "        \n",
    "interaction_matrix"
   ]
  }
 ],
 "metadata": {
  "kernelspec": {
   "display_name": "Python 3",
   "language": "python",
   "name": "python3"
  },
  "language_info": {
   "codemirror_mode": {
    "name": "ipython",
    "version": 3
   },
   "file_extension": ".py",
   "mimetype": "text/x-python",
   "name": "python",
   "nbconvert_exporter": "python",
   "pygments_lexer": "ipython3",
   "version": "3.10.11"
  }
 },
 "nbformat": 4,
 "nbformat_minor": 2
}
