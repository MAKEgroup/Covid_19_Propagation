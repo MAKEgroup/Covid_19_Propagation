{
 "cells": [
  {
   "cell_type": "markdown",
   "metadata": {},
   "source": [
    "# Data Monitoring"
   ]
  },
  {
   "cell_type": "markdown",
   "metadata": {},
   "source": [
    "####  import libraries "
   ]
  },
  {
   "cell_type": "code",
   "execution_count": 2,
   "metadata": {},
   "outputs": [],
   "source": [
    "# importings\n",
    "import numpy as np\n",
    "import pandas as pd\n",
    "import matplotlib.pyplot as plt\n",
    "import math\n",
    "#import seaborn as sns\n",
    "%matplotlib notebook"
   ]
  },
  {
   "cell_type": "code",
   "execution_count": 5,
   "metadata": {},
   "outputs": [],
   "source": [
    "covid_raw = pd.read_csv('../Data/Raw/owid-covid-data-clean.csv')"
   ]
  },
  {
   "cell_type": "markdown",
   "metadata": {},
   "source": [
    "#### iran data extracting and monitoring"
   ]
  },
  {
   "cell_type": "code",
   "execution_count": 9,
   "metadata": {},
   "outputs": [],
   "source": [
    "Iran_data = covid_raw[ covid_raw[\"location\"] == \"Iran\" ]"
   ]
  },
  {
   "cell_type": "code",
   "execution_count": 13,
   "metadata": {},
   "outputs": [
    {
     "data": {
      "text/html": [
       "<div>\n",
       "<style scoped>\n",
       "    .dataframe tbody tr th:only-of-type {\n",
       "        vertical-align: middle;\n",
       "    }\n",
       "\n",
       "    .dataframe tbody tr th {\n",
       "        vertical-align: top;\n",
       "    }\n",
       "\n",
       "    .dataframe thead th {\n",
       "        text-align: right;\n",
       "    }\n",
       "</style>\n",
       "<table border=\"1\" class=\"dataframe\">\n",
       "  <thead>\n",
       "    <tr style=\"text-align: right;\">\n",
       "      <th></th>\n",
       "      <th>iso_code</th>\n",
       "      <th>continent</th>\n",
       "      <th>location</th>\n",
       "      <th>date</th>\n",
       "      <th>total_cases</th>\n",
       "      <th>new_cases</th>\n",
       "      <th>new_cases_smoothed</th>\n",
       "      <th>total_deaths</th>\n",
       "      <th>new_deaths</th>\n",
       "      <th>new_deaths_smoothed</th>\n",
       "      <th>...</th>\n",
       "      <th>life_expectancy</th>\n",
       "      <th>human_development_index</th>\n",
       "      <th>population</th>\n",
       "      <th>excess_mortality</th>\n",
       "      <th>total_cases_smoothed</th>\n",
       "      <th>total_deaths_smoothed</th>\n",
       "      <th>total_boosters_smooth</th>\n",
       "      <th>people_fully_vaccinated_smooth</th>\n",
       "      <th>total_vaccinations_smooth</th>\n",
       "      <th>total_people_vaccinated_smooth</th>\n",
       "    </tr>\n",
       "  </thead>\n",
       "  <tbody>\n",
       "    <tr>\n",
       "      <th>118180</th>\n",
       "      <td>IRN</td>\n",
       "      <td>Asia</td>\n",
       "      <td>Iran</td>\n",
       "      <td>2020-01-05</td>\n",
       "      <td>0.0</td>\n",
       "      <td>0.0</td>\n",
       "      <td>0.0</td>\n",
       "      <td>0.0</td>\n",
       "      <td>0.0</td>\n",
       "      <td>0.0</td>\n",
       "      <td>...</td>\n",
       "      <td>76.68</td>\n",
       "      <td>0.783</td>\n",
       "      <td>88550568.0</td>\n",
       "      <td>-6.33</td>\n",
       "      <td>0.0</td>\n",
       "      <td>0.0</td>\n",
       "      <td>0.0</td>\n",
       "      <td>0.0</td>\n",
       "      <td>0.0</td>\n",
       "      <td>0.0</td>\n",
       "    </tr>\n",
       "    <tr>\n",
       "      <th>118181</th>\n",
       "      <td>IRN</td>\n",
       "      <td>Asia</td>\n",
       "      <td>Iran</td>\n",
       "      <td>2020-01-06</td>\n",
       "      <td>0.0</td>\n",
       "      <td>0.0</td>\n",
       "      <td>0.0</td>\n",
       "      <td>0.0</td>\n",
       "      <td>0.0</td>\n",
       "      <td>0.0</td>\n",
       "      <td>...</td>\n",
       "      <td>76.68</td>\n",
       "      <td>0.783</td>\n",
       "      <td>88550568.0</td>\n",
       "      <td>-6.33</td>\n",
       "      <td>0.0</td>\n",
       "      <td>0.0</td>\n",
       "      <td>0.0</td>\n",
       "      <td>0.0</td>\n",
       "      <td>0.0</td>\n",
       "      <td>0.0</td>\n",
       "    </tr>\n",
       "    <tr>\n",
       "      <th>118182</th>\n",
       "      <td>IRN</td>\n",
       "      <td>Asia</td>\n",
       "      <td>Iran</td>\n",
       "      <td>2020-01-07</td>\n",
       "      <td>0.0</td>\n",
       "      <td>0.0</td>\n",
       "      <td>0.0</td>\n",
       "      <td>0.0</td>\n",
       "      <td>0.0</td>\n",
       "      <td>0.0</td>\n",
       "      <td>...</td>\n",
       "      <td>76.68</td>\n",
       "      <td>0.783</td>\n",
       "      <td>88550568.0</td>\n",
       "      <td>-6.33</td>\n",
       "      <td>0.0</td>\n",
       "      <td>0.0</td>\n",
       "      <td>0.0</td>\n",
       "      <td>0.0</td>\n",
       "      <td>0.0</td>\n",
       "      <td>0.0</td>\n",
       "    </tr>\n",
       "    <tr>\n",
       "      <th>118183</th>\n",
       "      <td>IRN</td>\n",
       "      <td>Asia</td>\n",
       "      <td>Iran</td>\n",
       "      <td>2020-01-08</td>\n",
       "      <td>0.0</td>\n",
       "      <td>0.0</td>\n",
       "      <td>0.0</td>\n",
       "      <td>0.0</td>\n",
       "      <td>0.0</td>\n",
       "      <td>0.0</td>\n",
       "      <td>...</td>\n",
       "      <td>76.68</td>\n",
       "      <td>0.783</td>\n",
       "      <td>88550568.0</td>\n",
       "      <td>-6.33</td>\n",
       "      <td>0.0</td>\n",
       "      <td>0.0</td>\n",
       "      <td>0.0</td>\n",
       "      <td>0.0</td>\n",
       "      <td>0.0</td>\n",
       "      <td>0.0</td>\n",
       "    </tr>\n",
       "    <tr>\n",
       "      <th>118184</th>\n",
       "      <td>IRN</td>\n",
       "      <td>Asia</td>\n",
       "      <td>Iran</td>\n",
       "      <td>2020-01-09</td>\n",
       "      <td>0.0</td>\n",
       "      <td>0.0</td>\n",
       "      <td>0.0</td>\n",
       "      <td>0.0</td>\n",
       "      <td>0.0</td>\n",
       "      <td>0.0</td>\n",
       "      <td>...</td>\n",
       "      <td>76.68</td>\n",
       "      <td>0.783</td>\n",
       "      <td>88550568.0</td>\n",
       "      <td>-6.33</td>\n",
       "      <td>0.0</td>\n",
       "      <td>0.0</td>\n",
       "      <td>0.0</td>\n",
       "      <td>0.0</td>\n",
       "      <td>0.0</td>\n",
       "      <td>0.0</td>\n",
       "    </tr>\n",
       "  </tbody>\n",
       "</table>\n",
       "<p>5 rows × 44 columns</p>\n",
       "</div>"
      ],
      "text/plain": [
       "       iso_code continent location        date  total_cases  new_cases  \\\n",
       "118180      IRN      Asia     Iran  2020-01-05          0.0        0.0   \n",
       "118181      IRN      Asia     Iran  2020-01-06          0.0        0.0   \n",
       "118182      IRN      Asia     Iran  2020-01-07          0.0        0.0   \n",
       "118183      IRN      Asia     Iran  2020-01-08          0.0        0.0   \n",
       "118184      IRN      Asia     Iran  2020-01-09          0.0        0.0   \n",
       "\n",
       "        new_cases_smoothed  total_deaths  new_deaths  new_deaths_smoothed  \\\n",
       "118180                 0.0           0.0         0.0                  0.0   \n",
       "118181                 0.0           0.0         0.0                  0.0   \n",
       "118182                 0.0           0.0         0.0                  0.0   \n",
       "118183                 0.0           0.0         0.0                  0.0   \n",
       "118184                 0.0           0.0         0.0                  0.0   \n",
       "\n",
       "        ...  life_expectancy  human_development_index  population  \\\n",
       "118180  ...            76.68                    0.783  88550568.0   \n",
       "118181  ...            76.68                    0.783  88550568.0   \n",
       "118182  ...            76.68                    0.783  88550568.0   \n",
       "118183  ...            76.68                    0.783  88550568.0   \n",
       "118184  ...            76.68                    0.783  88550568.0   \n",
       "\n",
       "        excess_mortality  total_cases_smoothed  total_deaths_smoothed  \\\n",
       "118180             -6.33                   0.0                    0.0   \n",
       "118181             -6.33                   0.0                    0.0   \n",
       "118182             -6.33                   0.0                    0.0   \n",
       "118183             -6.33                   0.0                    0.0   \n",
       "118184             -6.33                   0.0                    0.0   \n",
       "\n",
       "        total_boosters_smooth  people_fully_vaccinated_smooth  \\\n",
       "118180                    0.0                             0.0   \n",
       "118181                    0.0                             0.0   \n",
       "118182                    0.0                             0.0   \n",
       "118183                    0.0                             0.0   \n",
       "118184                    0.0                             0.0   \n",
       "\n",
       "        total_vaccinations_smooth  total_people_vaccinated_smooth  \n",
       "118180                        0.0                             0.0  \n",
       "118181                        0.0                             0.0  \n",
       "118182                        0.0                             0.0  \n",
       "118183                        0.0                             0.0  \n",
       "118184                        0.0                             0.0  \n",
       "\n",
       "[5 rows x 44 columns]"
      ]
     },
     "execution_count": 13,
     "metadata": {},
     "output_type": "execute_result"
    }
   ],
   "source": [
    "Iran_data.head()"
   ]
  },
  {
   "cell_type": "markdown",
   "metadata": {},
   "source": [
    "<div style=\"text-align: right\">\n",
    "برای کشور **ایران** حدود ۴۴ ویژگی و در ۱۲۳۱ روز داده داریم. برای دیگر کشورها نیز مقادیر باید در همین مقیاس باشند.\n",
    "</div>\n",
    "<div dir='rtl'>"
   ]
  },
  {
   "cell_type": "code",
   "execution_count": 15,
   "metadata": {},
   "outputs": [
    {
     "data": {
      "text/plain": [
       "(1231, 44)"
      ]
     },
     "execution_count": 15,
     "metadata": {},
     "output_type": "execute_result"
    }
   ],
   "source": [
    "np.shape(Iran_data)"
   ]
  },
  {
   "cell_type": "markdown",
   "metadata": {},
   "source": [
    "<div style=\"text-align: right\">\n",
    "ویژگی هایی که در این دادگان هست با توضیحات عبارت از جدول زیر است:\n",
    "</div>\n",
    "<div dir='rtl'>"
   ]
  },
  {
   "cell_type": "markdown",
   "metadata": {},
   "source": [
    "<div style=\"text-align: center\">\n",
    "\n",
    "\n",
    "| عنوان ویژگی                    | توضیحات                                      |\n",
    "| ------------------------------ | -------------------------------------------- |\n",
    "| iso_code                       | شناسه کشور                                   |\n",
    "| continent                      | قاره                                         |\n",
    "| location                       | نام کشور                                     |\n",
    "| date                           | تاریخ ثبت گزارش                              |\n",
    "| total_cases                    | مجموع موارد                                  |\n",
    "| new_cases                      | موارد جدید                                   |\n",
    "| new_cases_smoothed             | موارد جدید اصلاح شده                         |\n",
    "| total_deaths                   | مجموع مرگ و میر                              |\n",
    "| new_deaths                     | مرگ و میر تازه                               |\n",
    "| new_deaths_smoothed            | مرگ و میر تازه اصلاح شده                     |\n",
    "| reproduction_rate              | نرخ تخمینی رشد جمعیت کرونازده ها             |\n",
    "| icu_patients                   | بیماران مراقبت های ویژه                      |\n",
    "| hosp_patients                  | بیماران بیمارستانی                           |\n",
    "| weekly_icu_admissions          | پذیرش هفتگی مهو                              |\n",
    "| weekly_hosp_admissions         | پذیرش هفتگی بیمارستان                        |\n",
    "| total_vaccinations             | مجموع واکسینه شده ها                         |\n",
    "| people_vaccinated              | جمعیت واکسینه شده                            |\n",
    "| people_fully_vaccinated        | جمعیت کاملا واکسینه شده                      |\n",
    "| total_boosters                 | مجموع واکسینه شده های ثانویه(بوستر)          |\n",
    "| new_vaccinations_smoothed      | واکسنش های جدید (اصلاح شده)                  |\n",
    "| new_people_vaccinated_smoothed |                                              |\n",
    "| stringency_index               | شاخص سختی                                    |\n",
    "| population_density             | چگالی جمعیت                                  |\n",
    "| median_age                     | میانه سنی                                    |\n",
    "| aged_65_older                  | بالای ۶۵ ساله ها                             |\n",
    "| aged_70_older                  | بالای ۷۰ ساله ها                             |\n",
    "| gdp_per_capita                 | سرانه تولید ملی                              |\n",
    "| extreme_poverty                | فقر مطلق                                     |\n",
    "| cardiovasc_death_rate          | نرخ مرگ و میر ناشی از بیماری قلبی عروقی      |\n",
    "| diabetes_prevalence            | درصد دیابتی ها                               |\n",
    "| female_smokers                 | زنان سیگاری                                  |\n",
    "| male_smokers                   | مردان سیگاری                                 |\n",
    "| handwashing_facilities         | بخشی از جمعیت که به وسائل شستشو دسترسی دارند |\n",
    "| hospital_beds_per_thousand     | تخت های بیمارستان به ازای هزار نفر           |\n",
    "| life_expectancy                | امید به زندگی                                |\n",
    "| human_development_index        | شاخص توسعه انسانی                            |\n",
    "| population                     | جمعیت                                        |\n",
    "| excess_mortality               | درصد تغییرات مرگ ماهانه یا سالانه            |\n",
    "| total_cases_smoothed           | مجموع موارد اصلاح شده                        |\n",
    "| total_deaths_smoothed          | مجموع مرگ و میر اصلاح شده                    |\n",
    "| total_boosters_smooth          | مجموع دوز ثانویه اصلاح شده                   |\n",
    "| people_fully_vaccinated_smooth | جمعیت کاملا واکسینه شده اصلاح شده            |\n",
    "| total_vaccinations_smooth      | مجموع واکسنش ها اصلاح شده                    |\n",
    "| total_people_vaccinated_smooth | مجموع مردمان واکیسنه شده اصلاح شده           |\n",
    "\n",
    "</div>\n",
    "<div dir='ltl'>"
   ]
  },
  {
   "cell_type": "code",
   "execution_count": 19,
   "metadata": {},
   "outputs": [
    {
     "data": {
      "text/plain": [
       "118180    19082.62\n",
       "118181    19082.62\n",
       "118182    19082.62\n",
       "118183    19082.62\n",
       "118184    19082.62\n",
       "            ...   \n",
       "119406    19082.62\n",
       "119407    19082.62\n",
       "119408    19082.62\n",
       "119409    19082.62\n",
       "119410    19082.62\n",
       "Name: gdp_per_capita, Length: 1231, dtype: float64"
      ]
     },
     "execution_count": 19,
     "metadata": {},
     "output_type": "execute_result"
    }
   ],
   "source": [
    "Iran_data[\"gdp_per_capita\"]"
   ]
  },
  {
   "cell_type": "code",
   "execution_count": 11,
   "metadata": {},
   "outputs": [
    {
     "data": {
      "text/plain": [
       "118180         0.0\n",
       "118181         0.0\n",
       "118182         0.0\n",
       "118183         0.0\n",
       "118184         0.0\n",
       "            ...   \n",
       "119406    146204.0\n",
       "119407    146204.0\n",
       "119408    146204.0\n",
       "119409    146204.0\n",
       "119410    146204.0\n",
       "Name: total_deaths, Length: 1231, dtype: float64"
      ]
     },
     "execution_count": 11,
     "metadata": {},
     "output_type": "execute_result"
    }
   ],
   "source": [
    "Iran_data[\"total_deaths\"]"
   ]
  },
  {
   "cell_type": "code",
   "execution_count": null,
   "metadata": {},
   "outputs": [],
   "source": []
  }
 ],
 "metadata": {
  "kernelspec": {
   "display_name": "Python 3",
   "language": "python",
   "name": "python3"
  },
  "language_info": {
   "codemirror_mode": {
    "name": "ipython",
    "version": 3
   },
   "file_extension": ".py",
   "mimetype": "text/x-python",
   "name": "python",
   "nbconvert_exporter": "python",
   "pygments_lexer": "ipython3",
   "version": "3.10.11"
  }
 },
 "nbformat": 4,
 "nbformat_minor": 2
}
