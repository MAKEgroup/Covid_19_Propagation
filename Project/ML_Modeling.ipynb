{
 "cells": [
  {
   "cell_type": "code",
   "execution_count": 1,
   "id": "b5be8d3a-c92b-4fa3-93b6-7f0b1ed7efc1",
   "metadata": {},
   "outputs": [],
   "source": [
    "import numpy as np\n",
    "import matplotlib.pyplot as plt\n",
    "import pandas as pd\n"
   ]
  },
  {
   "cell_type": "code",
   "execution_count": 6,
   "id": "cf59a3f2-9417-4aab-a499-c131c7ed0e03",
   "metadata": {},
   "outputs": [],
   "source": [
    "df = pd.read_csv(\"../Data/Raw/new_approach/Weekly_Covid_Data_Population_Normalized.csv\")"
   ]
  },
  {
   "cell_type": "code",
   "execution_count": 7,
   "id": "afb9b5e0-7d63-4975-b48a-a2945ffabe16",
   "metadata": {},
   "outputs": [
    {
     "name": "stdout",
     "output_type": "stream",
     "text": [
      "Index(['week_no', 'iso_code', 'new_cases', 'new_deaths', 'new_vaccinations',\n",
      "       'new_people_vaccinated', 'reproduction_rate', 'stringency_index',\n",
      "       'excess_mortality', 'population_density', 'median_age', 'aged_65_older',\n",
      "       'aged_70_older', 'cardiovasc_death_rate', 'diabetes_prevalence',\n",
      "       'female_smokers', 'male_smokers', 'hospital_beds_per_thousand',\n",
      "       'life_expectancy', 'human_development_index', 'population'],\n",
      "      dtype='object')\n",
      "(41184, 21)\n"
     ]
    }
   ],
   "source": [
    "print(df.columns)\n",
    "print(df.shape)"
   ]
  },
  {
   "cell_type": "code",
   "execution_count": 9,
   "id": "ada1e29d-45ad-4443-9b54-3eaa7ab628d1",
   "metadata": {},
   "outputs": [
    {
     "name": "stdout",
     "output_type": "stream",
     "text": [
      "new_cases                     4.595436e-06\n",
      "new_deaths                    1.225450e-07\n",
      "new_vaccinations              0.000000e+00\n",
      "new_people_vaccinated         0.000000e+00\n",
      "reproduction_rate             9.500000e-01\n",
      "stringency_index              8.796000e+01\n",
      "excess_mortality             -1.000000e+03\n",
      "population_density            4.272900e+01\n",
      "median_age                    1.960000e+01\n",
      "aged_65_older                 2.822000e+00\n",
      "aged_70_older                 1.882000e+00\n",
      "cardiovasc_death_rate         3.078460e+02\n",
      "diabetes_prevalence           1.820000e+00\n",
      "female_smokers                1.600000e+00\n",
      "male_smokers                  3.070000e+01\n",
      "hospital_beds_per_thousand    1.700000e+00\n",
      "life_expectancy               6.149000e+01\n",
      "human_development_index       5.710000e-01\n",
      "population                    1.632054e+07\n",
      "Name: 41183, dtype: float64\n"
     ]
    }
   ],
   "source": [
    "\n",
    "df.drop([\"iso_code\", \"week_no\"], axis=1, inplace=True)\n",
    "#df.drop(columns=df.columns[0:1], axis=1, inplace=True)\n",
    "pop = df.iloc[0][\"population\"]\n",
    "last_country = df.iloc[234*176 - 1]\n",
    "print(last_country)\n",
    "cnt = df[\"population\"].value_counts()"
   ]
  },
  {
   "cell_type": "code",
   "execution_count": 11,
   "id": "5d279ca1-51e9-4d60-aa96-48f0e4a165b5",
   "metadata": {},
   "outputs": [],
   "source": [
    "# Here we are going to normilze the data.\n",
    "from sklearn import preprocessing\n",
    "\n",
    "x = df.values\n",
    "min_max_scaler = preprocessing.MinMaxScaler()\n",
    "x_scaled = min_max_scaler.fit_transform(x)\n",
    "df = pd.DataFrame(x_scaled)"
   ]
  },
  {
   "cell_type": "code",
   "execution_count": 12,
   "id": "4c8b85b9-b33d-41f2-b11f-b66ca482ac64",
   "metadata": {},
   "outputs": [],
   "source": [
    "# now we want to join datas together\n",
    "prediction_days_count = 2\n",
    "features_list = []\n",
    "X_list = []\n",
    "Y_list = []\n",
    "for i in range(234): # 234 is number of countries\n",
    "    for j in range(176): # 176 is number of weeks we have\n",
    "        row_list = df.loc[i*176 + j, :].values.flatten().tolist()\n",
    "        features_list.append(row_list)\n",
    "# print(len(features_list))\n",
    "# print((len(features_list) - prediction_days_count) + 1)\n",
    "for i in range((len(features_list) - prediction_days_count) + 1):\n",
    "    fl = features_list[i]\n",
    "    fl_len = len(features_list[i])\n",
    "    this_population = features_list[i][fl_len - 1]\n",
    "    for j in range(1, prediction_days_count):\n",
    "        if this_population == features_list[i + j][fl_len - 1]:\n",
    "            fl.extend(features_list[i + j])\n",
    "        else:\n",
    "            this_population = -1\n",
    "            break\n",
    "    if this_population != -1:\n",
    "        X_list.append(fl)\n",
    "        Y_list.append(features_list[(i + prediction_days_count) - 1][0])\n"
   ]
  },
  {
   "cell_type": "code",
   "execution_count": 15,
   "id": "a776d097-7e1f-44f8-9325-32afcf8b5065",
   "metadata": {},
   "outputs": [
    {
     "name": "stdout",
     "output_type": "stream",
     "text": [
      "40950\n",
      "40950\n"
     ]
    },
    {
     "data": {
      "text/plain": [
       "(40950, 38)"
      ]
     },
     "execution_count": 15,
     "metadata": {},
     "output_type": "execute_result"
    }
   ],
   "source": [
    "print(len(X_list))\n",
    "print(len(Y_list))\n",
    "np.shape(X_list)"
   ]
  },
  {
   "cell_type": "code",
   "execution_count": 16,
   "id": "1b695b00-4be2-4361-a7f3-810dc49d92ce",
   "metadata": {},
   "outputs": [],
   "source": [
    "import math\n",
    "def train_test_splitter(X, Y, prediction_days_count, batch_count, batch_length):\n",
    "    xlen = len(X)\n",
    "    xs_count_for_each_country = int(xlen / 234)\n",
    "    X_train = []\n",
    "    X_test = []\n",
    "    Y_train = []\n",
    "    Y_test = []\n",
    "    steps = math.floor((xs_count_for_each_country - (batch_count * batch_length)) / (batch_count + 1)) \n",
    "    i = 0\n",
    "    #print(steps)\n",
    "    for i in range(234):\n",
    "        j = 0\n",
    "        for j in range((i * xs_count_for_each_country),(i * xs_count_for_each_country) + steps):\n",
    "            X_train.append(X[j])\n",
    "        #print(j)\n",
    "        while(j + batch_length + steps < (i+1) * xs_count_for_each_country):\n",
    "            for k in range(j + prediction_days_count, j + batch_length - prediction_days_count):\n",
    "                X_test.append(X[j])\n",
    "                Y_test.append(Y[j])\n",
    "            j += batch_length\n",
    "            for k in range(j, j + steps):\n",
    "                X_train.append(X[j])\n",
    "                Y_train.append(Y[j])\n",
    "            j += steps + 1\n",
    "            while j < (i+1) * xs_count_for_each_country:\n",
    "                X_train.append(X[j])\n",
    "                Y_train.append(Y[j])\n",
    "                j += 1\n",
    "        #print(j)\n",
    "    ########\n",
    "    # for i in range(steps):\n",
    "    #     X_train.append(X[i])\n",
    "    # while(i + batch_length + steps < xlen):\n",
    "    #     for j in range(batch_length):\n",
    "    #         X_test.append(X[j])\n",
    "    #         Y_test.append(Y[j])\n",
    "    #     for j in range(i, i + steps):\n",
    "    #         X_train.append(X[j])\n",
    "    #         Y_train.append(Y[j])\n",
    "    #     i += batch_length + steps\n",
    "    return X_train, X_test, Y_train, Y_test\n",
    "        "
   ]
  },
  {
   "cell_type": "code",
   "execution_count": 17,
   "id": "638adfd3-a41a-435b-b2e3-61a25cb1753a",
   "metadata": {},
   "outputs": [],
   "source": [
    "X_train, X_test, Y_train, Y_test = train_test_splitter(X_list, Y_list, prediction_days_count, 3, 10)\n"
   ]
  },
  {
   "cell_type": "code",
   "execution_count": 19,
   "id": "cf200f2c-47e7-46a0-9f11-d895f5426d03",
   "metadata": {},
   "outputs": [
    {
     "name": "stdout",
     "output_type": "stream",
     "text": [
      "(38610, 38)\n",
      "40014\n",
      "[0.0, 0.0, 0.9135528498199288, 0.9135528498199288, 0.9963668939431642, 0.9090909090909091, 0.0, 0.0518207150755621, 0.9717611142911657, 0.9761764044363999, 0.9831555052415677, 0.9261269170971986, 0.9796803586504031, 0.0, 0.0, 0.9868810416255672, 0.9798297676558546, 0.9995544264139219, 0.02884430250905809, 0.0, 0.0, 0.9135528498199288, 0.9135528498199288, 0.9963668939431642, 0.9090909090909091, 0.0, 0.0518207150755621, 0.9717611142911657, 0.9761764044363999, 0.9831555052415677, 0.9261269170971986, 0.9796803586504031, 0.0, 0.0, 0.9868810416255672, 0.9798297676558546, 0.9995544264139219, 0.02884430250905809]\n"
     ]
    }
   ],
   "source": [
    "print(np.shape(X_train))\n",
    "print(len(X_train) + len(X_test))\n",
    "print(X_train[0])"
   ]
  },
  {
   "cell_type": "code",
   "execution_count": null,
   "id": "55795a1b-aaa3-4763-b1fe-d0c4e23a7c03",
   "metadata": {},
   "outputs": [],
   "source": [
    "# ns_list, train_scores, validation_scores = learning_curve(\n",
    "#                                                    estimator = SVR(**opt_svr_param), \n",
    "#                                                    X = X, y = Y, \n",
    "#                                                    train_sizes = ns_list, cv = 5,\n",
    "#                                                    scoring = 'neg_mean_squared_error')\n"
   ]
  },
  {
   "cell_type": "code",
   "execution_count": null,
   "id": "ad2e7ff2",
   "metadata": {},
   "outputs": [],
   "source": [
    "# train_scores, valid_scores = validation_curve(KNeighborsRegressor(), X, Y, \n",
    "#                                               param_name=\"n_neighbors\",\n",
    "#                                               param_range=k_list , cv=20, \n",
    "#                                               scoring = 'neg_mean_squared_error',\n",
    "#                                               verbose=1, n_jobs=-1\n",
    "#                                              )\n"
   ]
  }
 ],
 "metadata": {
  "kernelspec": {
   "display_name": "Python 3 (ipykernel)",
   "language": "python",
   "name": "python3"
  },
  "language_info": {
   "codemirror_mode": {
    "name": "ipython",
    "version": 3
   },
   "file_extension": ".py",
   "mimetype": "text/x-python",
   "name": "python",
   "nbconvert_exporter": "python",
   "pygments_lexer": "ipython3",
   "version": "3.9.7"
  }
 },
 "nbformat": 4,
 "nbformat_minor": 5
}
